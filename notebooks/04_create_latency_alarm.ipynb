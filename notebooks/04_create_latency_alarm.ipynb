{
 "cells": [
  {
   "cell_type": "code",
   "execution_count": null,
   "id": "732d0f4a-4924-4c86-bc3c-55f439b6bc83",
   "metadata": {},
   "outputs": [],
   "source": [
    "# Parameters\n",
    "endpoint_name = None  # injected by Airflow/Papermill\n",
    "# sns_topic_arn = None \n"
   ]
  },
  {
   "cell_type": "code",
   "execution_count": 1,
   "id": "899247e7-13ea-443a-b9aa-e5c1c5e03394",
   "metadata": {},
   "outputs": [
    {
     "name": "stdout",
     "output_type": "stream",
     "text": [
      "CloudWatch latency alarm created: xgb-heart-risk-endpoint-20250510T070130Z-LatencyAlarm\n"
     ]
    }
   ],
   "source": [
    "import boto3\n",
    "\n",
    "# Config \n",
    "# endpoint_name = \"xgb-heart-risk-endpoint-20250510T070130Z\"  # Update to match your deployed one\n",
    "alarm_name = f\"{endpoint_name}-LatencyAlarm\"\n",
    "# sns_topic_arn = None  # add your SNS ARN for alert emails\n",
    "\n",
    "# Create CloudWatch alarm \n",
    "cloudwatch = boto3.client(\"cloudwatch\")\n",
    "\n",
    "cloudwatch.put_metric_alarm(\n",
    "    AlarmName=alarm_name,\n",
    "    MetricName=\"InvocationLatency\",\n",
    "    Namespace=\"AWS/SageMaker\",\n",
    "    Statistic=\"Maximum\",\n",
    "    Dimensions=[{\"Name\": \"EndpointName\", \"Value\": endpoint_name}],\n",
    "    Period=300,  # 5 min window\n",
    "    EvaluationPeriods=1,\n",
    "    Threshold=1000.0,  # milliseconds\n",
    "    ComparisonOperator=\"GreaterThanThreshold\",\n",
    "    AlarmDescription=\"Alarm if SageMaker endpoint latency exceeds 1 second\",\n",
    "    ActionsEnabled=False if not sns_topic_arn else True,\n",
    "    AlarmActions=[sns_topic_arn] if sns_topic_arn else [],\n",
    ")\n",
    "\n",
    "print(f\"CloudWatch latency alarm created: {alarm_name}\")"
   ]
  },
  {
   "cell_type": "code",
   "execution_count": null,
   "id": "b81cdeea-30b4-4d0c-83e1-5762a51733c3",
   "metadata": {},
   "outputs": [],
   "source": [
    "import json\n",
    "import os\n",
    "\n",
    "# Store alarm metadata for Airflow XCom pull\n",
    "metadata = {\n",
    "    \"alarm_name\": alarm_name\n",
    "}\n",
    "\n",
    "os.makedirs(\"/opt/airflow/out\", exist_ok=True)\n",
    "with open(\"/opt/airflow/out/notebook_output_metadata.json\", \"w\") as f:\n",
    "    json.dump(metadata, f)\n"
   ]
  }
 ],
 "metadata": {
  "kernelspec": {
   "display_name": "Python 3 (ipykernel)",
   "language": "python",
   "name": "python3"
  },
  "language_info": {
   "codemirror_mode": {
    "name": "ipython",
    "version": 3
   },
   "file_extension": ".py",
   "mimetype": "text/x-python",
   "name": "python",
   "nbconvert_exporter": "python",
   "pygments_lexer": "ipython3",
   "version": "3.12.7"
  }
 },
 "nbformat": 4,
 "nbformat_minor": 5
}
