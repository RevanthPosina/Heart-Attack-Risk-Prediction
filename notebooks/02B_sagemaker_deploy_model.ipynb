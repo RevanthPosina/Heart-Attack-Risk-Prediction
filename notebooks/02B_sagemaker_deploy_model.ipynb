{
 "cells": [
  {
   "cell_type": "code",
   "execution_count": 87,
   "id": "90219fd1-8b51-4438-b3c5-ee29b931efc4",
   "metadata": {},
   "outputs": [
    {
     "name": "stdout",
     "output_type": "stream",
     "text": [
      "Using model: s3://verikai-heart-risk-pipeline/models/heart_attack/20250510T063154Z/output/xgb-heart-20250510T063154Z/output/model.tar.gz\n",
      "--------!Endpoint name saved: xgb-heart-risk-endpoint-20250510T221028Z\n"
     ]
    }
   ],
   "source": [
    "import boto3\n",
    "import sagemaker\n",
    "from sagemaker.xgboost.model import XGBoostModel\n",
    "from datetime import datetime, timezone\n",
    "from sagemaker.serializers import CSVSerializer\n",
    "import pandas as pd\n",
    "from io import StringIO \n",
    "from sagemaker.model_monitor import DataCaptureConfig\n",
    "import os\n",
    "\n",
    "#  Config \n",
    "bucket = \"verikai-heart-risk-pipeline\"\n",
    "prefix = \"models/heart_attack/\"\n",
    "role = \"arn:aws:iam::904233112003:role/SageMakerExecutionRole-rev\"\n",
    "region = \"us-east-1\"\n",
    "\n",
    "#  Helper: get latest model.tar.gz\n",
    "def get_latest_model_artifact(bucket, prefix):\n",
    "    s3 = boto3.client(\"s3\")\n",
    "    response = s3.list_objects_v2(Bucket=bucket, Prefix=prefix)\n",
    "    models = [obj[\"Key\"] for obj in response.get(\"Contents\", []) if obj[\"Key\"].endswith(\"model.tar.gz\")]\n",
    "    return f\"s3://{bucket}/{sorted(models, reverse=True)[0]}\" if models else None\n",
    "\n",
    "#  Fetch latest model from S3\n",
    "model_artifact = get_latest_model_artifact(bucket, prefix)\n",
    "print(\"Using model:\", model_artifact)\n",
    "\n",
    "#  Set up SageMaker model + deployment\n",
    "session = sagemaker.Session(boto3.Session(region_name=region))\n",
    "timestamp = datetime.now(timezone.utc).strftime(\"%Y%m%dT%H%M%SZ\")\n",
    "endpoint_name = f\"xgb-heart-risk-endpoint-{timestamp}\"\n",
    "\n",
    "xgb_model = XGBoostModel(\n",
    "    model_data=model_artifact,\n",
    "    role=role,\n",
    "    framework_version=\"1.5-1\",\n",
    "    sagemaker_session=session\n",
    ")\n",
    "\n",
    "\n",
    "data_capture_config = DataCaptureConfig(\n",
    "    enable_capture=True,\n",
    "    sampling_percentage=100,\n",
    "    destination_s3_uri=\"s3://verikai-heart-risk-pipeline/inference-logs/\",\n",
    "    capture_options=[\"Input\", \"Output\"]\n",
    ")\n",
    "#  Deploy endpoint\n",
    "predictor = xgb_model.deploy(\n",
    "    instance_type=\"ml.m5.large\",\n",
    "    initial_instance_count=1,\n",
    "    endpoint_name=endpoint_name,\n",
    "    serializer=CSVSerializer(),\n",
    "    data_capture_config=data_capture_config\n",
    ")\n",
    "os.makedirs(\"data\", exist_ok=True)\n",
    "with open(\"data/latest_endpoint.txt\", \"w\") as f:\n",
    "    f.write(endpoint_name)\n",
    "\n",
    "print(\"Endpoint name saved:\", endpoint_name)"
   ]
  },
  {
   "cell_type": "code",
   "execution_count": 70,
   "id": "7277db41-441c-44d1-a2a4-dd8793599936",
   "metadata": {},
   "outputs": [
    {
     "name": "stdout",
     "output_type": "stream",
     "text": [
      "Sample payload for inference:\n",
      "0.64,0.03,0.28,0.22,0.74,0.68,0.89,0.09,0.42,0.03,0.22,0.51,0.03,0.2,0.65,0.54,0.22,0.59,0.81,0.01,0.81,0.7,0.34,0.16,0.96,0.34,0.09,0.1,0.85,0.6,0.81,0.73,0.54,0.97,0.38,0.55,0.83,0.62,0.86,0.58,0.7,0.05,0.23,0.29\n"
     ]
    }
   ],
   "source": [
    "import random\n",
    "\n",
    "def generate_synthetic_input(n=5, seed=42):\n",
    "    random.seed(seed)\n",
    "    inputs = []\n",
    "    for _ in range(n):\n",
    "        sample = [\n",
    "            round(random.uniform(0, 1), 2)  # simulates normalized features or dummy flags\n",
    "            for _ in range(44)\n",
    "        ]\n",
    "        inputs.append(\",\".join(map(str, sample)))\n",
    "    return inputs\n",
    "\n",
    "# Generate\n",
    "test_inputs = generate_synthetic_input()\n",
    "\n",
    "# Preview one\n",
    "print(\"Sample payload for inference:\")\n",
    "print(test_inputs[0])"
   ]
  },
  {
   "cell_type": "code",
   "execution_count": 77,
   "id": "84901ae7-0f8c-406f-955e-3d8fe6ea2ee1",
   "metadata": {},
   "outputs": [
    {
     "name": "stdout",
     "output_type": "stream",
     "text": [
      "Prediction: [['0.6982229351997375']]\n"
     ]
    }
   ],
   "source": [
    "result = predictor.predict(test_inputs[0])\n",
    "print(\"Prediction:\", result)"
   ]
  },
  {
   "cell_type": "code",
   "execution_count": 79,
   "id": "066447b3-99a3-4015-80c6-23adc5d5ff97",
   "metadata": {},
   "outputs": [
    {
     "name": "stdout",
     "output_type": "stream",
     "text": [
      "[0] ✅ Prediction: [['0.6982229351997375']]\n",
      "[1] ✅ Prediction: [['0.9065232276916504']]\n",
      "[2] ✅ Prediction: [['0.717840313911438']]\n",
      "[3] ✅ Prediction: [['0.7726213335990906']]\n",
      "[4] ✅ Prediction: [['5.945413249719422e-06']]\n"
     ]
    }
   ],
   "source": [
    "for i, csv_input in enumerate(test_inputs):\n",
    "    try:\n",
    "        result = predictor.predict(csv_input)\n",
    "        print(f\"[{i}] Prediction: {result}\")\n",
    "    except Exception as e:\n",
    "        print(f\"[{i}] Error: {e}\")"
   ]
  },
  {
   "cell_type": "code",
   "execution_count": null,
   "id": "acbf5702-b1f4-4310-8ac8-dc70e77bea1b",
   "metadata": {},
   "outputs": [],
   "source": [
    "import json\n",
    "\n",
    "metadata = {\n",
    "    \"endpoint_name\": endpoint_name\n",
    "}\n",
    "\n",
    "with open(\"/opt/airflow/out/notebook_output_metadata.json\", \"w\") as f:\n",
    "    json.dump(metadata, f)"
   ]
  }
 ],
 "metadata": {
  "kernelspec": {
   "display_name": "Python 3 (ipykernel)",
   "language": "python",
   "name": "python3"
  },
  "language_info": {
   "codemirror_mode": {
    "name": "ipython",
    "version": 3
   },
   "file_extension": ".py",
   "mimetype": "text/x-python",
   "name": "python",
   "nbconvert_exporter": "python",
   "pygments_lexer": "ipython3",
   "version": "3.12.7"
  }
 },
 "nbformat": 4,
 "nbformat_minor": 5
}
