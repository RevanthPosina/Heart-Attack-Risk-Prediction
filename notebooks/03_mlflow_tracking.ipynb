{
 "cells": [
  {
   "cell_type": "code",
   "execution_count": 52,
   "id": "43c21f04-b01b-490f-9f93-fe03e7422c0b",
   "metadata": {},
   "outputs": [],
   "source": [
    "import seaborn as sns\n",
    "import numpy as np\n",
    "import mlflow\n",
    "import mlflow\n",
    "import mlflow.xgboost\n",
    "import shap\n",
    "import matplotlib.pyplot as plt\n",
    "from sklearn.metrics import (\n",
    "    roc_auc_score, average_precision_score,\n",
    "    f1_score, recall_score, brier_score_loss,\n",
    "    confusion_matrix, RocCurveDisplay,\n",
    "    PrecisionRecallDisplay\n",
    ")"
   ]
  },
  {
   "cell_type": "code",
   "execution_count": 54,
   "id": "ee242908-8121-4fb0-a073-458c579dd817",
   "metadata": {},
   "outputs": [
    {
     "name": "stderr",
     "output_type": "stream",
     "text": [
      "2025/05/09 19:18:03 INFO mlflow.tracking.fluent: Experiment with name 'brfss_heart_attack_risk' does not exist. Creating a new experiment.\n"
     ]
    },
    {
     "data": {
      "text/plain": [
       "<Experiment: artifact_location='/Users/rev/IUB/Projects/HeartAttackRiskPrediction/mlruns/1', creation_time=1746832683767, experiment_id='1', last_update_time=1746832683767, lifecycle_stage='active', name='brfss_heart_attack_risk', tags={}>"
      ]
     },
     "execution_count": 54,
     "metadata": {},
     "output_type": "execute_result"
    }
   ],
   "source": [
    "mlflow.set_tracking_uri(\"http://localhost:5001\")\n",
    "mlflow.set_experiment(\"brfss_heart_attack_risk\")"
   ]
  },
  {
   "cell_type": "code",
   "execution_count": 56,
   "id": "eec2091f-a4d1-4a71-a1c4-d4346b09ad13",
   "metadata": {},
   "outputs": [],
   "source": [
    "from pathlib import Path\n",
    "import joblib\n",
    "\n",
    "model_dir = Path(\"..\") / \"models\"\n",
    "\n",
    "xgb_model = joblib.load(model_dir / \"xgb_top25_shap.joblib\")\n",
    "X_test = joblib.load(model_dir / \"X_test25.joblib\")\n",
    "y_test = joblib.load(model_dir / \"y_test25.joblib\")\n"
   ]
  },
  {
   "cell_type": "code",
   "execution_count": 58,
   "id": "ac5376b5-53eb-4b76-9d9e-1c964b6bf179",
   "metadata": {},
   "outputs": [
    {
     "name": "stdout",
     "output_type": "stream",
     "text": [
      "/Users/rev/IUB/Projects/HeartAttackRiskPrediction/notebooks\n"
     ]
    }
   ],
   "source": [
    "import os\n",
    "print(os.getcwd())\n"
   ]
  },
  {
   "cell_type": "code",
   "execution_count": 92,
   "id": "b70a8fdb-e0bc-4162-a6dc-7598134f0770",
   "metadata": {},
   "outputs": [
    {
     "name": "stderr",
     "output_type": "stream",
     "text": [
      "/opt/anaconda3/lib/python3.12/site-packages/mlflow/types/utils.py:452: UserWarning: Hint: Inferred schema contains integer column(s). Integer columns in Python cannot represent missing values. If your input data contains missing values at inference time, it will be encoded as floats and will cause a schema enforcement error. The best way to avoid this problem is to infer the model schema based on a realistic data sample (training dataset) that includes missing values. Alternatively, you can declare integer columns as doubles (float64) whenever these columns may have missing values. See `Handling Integers With Missing Values <https://www.mlflow.org/docs/latest/models.html#handling-integers-with-missing-values>`_ for more details.\n",
      "  warnings.warn(\n",
      "Registered model 'HeartAttackRiskModel' already exists. Creating a new version of this model...\n",
      "2025/05/10 21:38:14 INFO mlflow.store.model_registry.abstract_store: Waiting up to 300 seconds for model version to finish creation. Model name: HeartAttackRiskModel, version 3\n"
     ]
    },
    {
     "name": "stdout",
     "output_type": "stream",
     "text": [
      "🏃 View run xgb_top25_shap__2025-05-10_21-37-57 at: http://localhost:5001/#/experiments/1/runs/c7f68751b1c34adab829067a5be5d756\n",
      "🧪 View experiment at: http://localhost:5001/#/experiments/1\n"
     ]
    },
    {
     "name": "stderr",
     "output_type": "stream",
     "text": [
      "Created version '3' of model 'HeartAttackRiskModel'.\n"
     ]
    }
   ],
   "source": [
    "from itertools import chain\n",
    "from mlflow.models.signature import infer_signature\n",
    "\n",
    "# Gather params & metrics\n",
    "params = xgb_model.get_params()\n",
    "\n",
    "y_proba = xgb_model.predict_proba(X_test)[:, 1]\n",
    "y_pred  = (y_proba >= 0.5).astype(int)\n",
    "\n",
    "metrics = {\n",
    "    \"auroc\"       : roc_auc_score(y_test, y_proba),\n",
    "    \"auprc\"       : average_precision_score(y_test, y_proba),\n",
    "    \"f1\"          : f1_score(y_test, y_pred),\n",
    "    \"recall\"      : recall_score(y_test, y_pred),\n",
    "    \"brier_score\" : brier_score_loss(y_test, y_proba)\n",
    "}\n",
    "\n",
    "# SHAP: Extract model and transformed input \n",
    "raw_xgb = xgb_model.named_steps[\"clf\"]\n",
    "preprocessor = xgb_model.named_steps[\"pre\"]\n",
    "X_transformed = preprocessor.transform(X_test)\n",
    "\n",
    "# Get original categorical and numerical column names\n",
    "cat_cols = preprocessor.transformers_[0][2]\n",
    "num_cols = preprocessor.transformers_[1][2]\n",
    "\n",
    "# Get OneHotEncoder feature names\n",
    "ohe = preprocessor.named_transformers_[\"cat\"]\n",
    "ohe_feature_names = ohe.get_feature_names_out(cat_cols)\n",
    "\n",
    "# Final SHAP feature names\n",
    "feature_names = list(chain(ohe_feature_names, num_cols))\n",
    "\n",
    "# SHAP explainer\n",
    "explainer = shap.TreeExplainer(raw_xgb)\n",
    "shap_values = explainer.shap_values(X_transformed)\n",
    "\n",
    "# Logging everything in one run \n",
    "from datetime import datetime\n",
    "run_name = f\"xgb_top25_shap__{datetime.now().strftime('%Y-%m-%d_%H-%M-%S')}\"\n",
    "with mlflow.start_run(run_name=run_name) as run:\n",
    "    mlflow.set_tag(\"model_status\", \"best_candidate\")\n",
    "    mlflow.set_tag(\"note\", \"final filtered SHAP, log model, good CM plot\")\n",
    "    mlflow.log_params(params)\n",
    "    mlflow.log_metrics(metrics)\n",
    "\n",
    "    # SHAP summary plot\n",
    "    exclude_features = [\"prev_chd_or_mi\"]\n",
    "    \n",
    "    filtered_indices = [i for i, name in enumerate(feature_names) if name not in exclude_features]\n",
    "    \n",
    "    filtered_shap_values = shap_values[:, filtered_indices]\n",
    "    filtered_feature_names = [feature_names[i] for i in filtered_indices]\n",
    "    \n",
    "    # Updated SHAP plot\n",
    "    shap.summary_plot(filtered_shap_values, X_transformed[:, filtered_indices], feature_names=filtered_feature_names, show=False)\n",
    "    plt.tight_layout()\n",
    "    plt.savefig(\"shap_summary_filtered.png\")\n",
    "    mlflow.log_artifact(\"shap_summary_filtered.png\", artifact_path=\"plots\")\n",
    "    plt.close()\n",
    "    # ROC curve\n",
    "    RocCurveDisplay.from_predictions(y_test, y_proba)\n",
    "    plt.title(\"ROC Curve\")\n",
    "    plt.savefig(\"roc_curve.png\")\n",
    "    mlflow.log_artifact(\"roc_curve.png\", artifact_path=\"plots\")\n",
    "    plt.close()\n",
    "\n",
    "    # PR curve\n",
    "    PrecisionRecallDisplay.from_predictions(y_test, y_proba)\n",
    "    plt.title(\"Precision-Recall Curve\")\n",
    "    plt.savefig(\"pr_curve.png\")\n",
    "    mlflow.log_artifact(\"pr_curve.png\", artifact_path=\"plots\")\n",
    "    plt.close()\n",
    "\n",
    "    # Confusion matrix\n",
    "    cm = confusion_matrix(y_test, y_pred)\n",
    "    labels = np.array([[f\"{value}\" for value in row] for row in cm])\n",
    "    \n",
    "    plt.figure(figsize=(6, 5))\n",
    "    sns.heatmap(cm, annot=labels, fmt='', cmap=\"viridis\", cbar=True, square=True,\n",
    "                xticklabels=[\"Predicted 0\", \"Predicted 1\"],\n",
    "                yticklabels=[\"Actual 0\", \"Actual 1\"],\n",
    "                annot_kws={\"fontsize\": 12, \"color\": \"orange\"})\n",
    "    \n",
    "    plt.title(\"XGBoost - Confusion Matrix\")\n",
    "    plt.xlabel(\"Predicted label\")\n",
    "    plt.ylabel(\"True label\")\n",
    "    plt.tight_layout()\n",
    "    plt.savefig(\"confusion_matrix_annotated.png\")\n",
    "    mlflow.log_artifact(\"confusion_matrix_annotated.png\", artifact_path=\"plots\")\n",
    "    plt.close()\n",
    "    signature = infer_signature(X_test, y_proba)\n",
    "\n",
    "    mlflow.sklearn.log_model(\n",
    "    sk_model=xgb_model,\n",
    "    artifact_path=\"model\",\n",
    "    registered_model_name=\"HeartAttackRiskModel\",\n",
    "    signature=signature       \n",
    "    )\n",
    "    # tag as best\n",
    "    mlflow.set_tag(\"model_status\", \"best_candidate\")"
   ]
  },
  {
   "cell_type": "code",
   "execution_count": 62,
   "id": "36443443-73d3-4570-a85d-58ca23c7937b",
   "metadata": {},
   "outputs": [
    {
     "name": "stderr",
     "output_type": "stream",
     "text": [
      "Successfully registered model 'HeartAttackRiskModel'.\n",
      "2025/05/09 19:18:38 INFO mlflow.store.model_registry.abstract_store: Waiting up to 300 seconds for model version to finish creation. Model name: HeartAttackRiskModel, version 1\n",
      "Created version '1' of model 'HeartAttackRiskModel'.\n"
     ]
    },
    {
     "data": {
      "text/plain": [
       "<ModelVersion: aliases=[], creation_timestamp=1746832718446, current_stage='None', description='', last_updated_timestamp=1746832718446, name='HeartAttackRiskModel', run_id='d3e5ff757a1b444693264a92ae732793', run_link='', source='/Users/rev/IUB/Projects/HeartAttackRiskPrediction/mlruns/1/d3e5ff757a1b444693264a92ae732793/artifacts/model', status='READY', status_message=None, tags={}, user_id='', version='1'>"
      ]
     },
     "execution_count": 62,
     "metadata": {},
     "output_type": "execute_result"
    }
   ],
   "source": [
    "from mlflow import register_model\n",
    "\n",
    "model_uri = f\"runs:/{run.info.run_id}/model\"\n",
    "register_model(model_uri=model_uri, name=\"HeartAttackRiskModel\")"
   ]
  },
  {
   "cell_type": "markdown",
   "id": "6b87b7a9-429b-43e8-9f4b-bb5337c9a090",
   "metadata": {},
   "source": [
    "## When we find a better model"
   ]
  },
  {
   "cell_type": "code",
   "execution_count": null,
   "id": "0973cc91-2fb4-4798-b4fc-a04ff2a293b5",
   "metadata": {},
   "outputs": [],
   "source": [
    "# from mlflow.tracking import MlflowClient\n",
    "# client = MlflowClient(\"http://localhost:5001\")\n",
    "\n",
    "# client.transition_model_version_stage(\n",
    "#     name=\"HeartAttackRiskModel\",\n",
    "#     version=\"2\",                 # version that shows the schema\n",
    "#     stage=\"Production\",\n",
    "#     archive_existing_versions=True\n",
    "# )"
   ]
  },
  {
   "cell_type": "code",
   "execution_count": null,
   "id": "527359d0-a49f-4bf4-ab16-f5634a25557a",
   "metadata": {},
   "outputs": [],
   "source": [
    "import json\n",
    "import os\n",
    "\n",
    "model_version = result.version\n",
    "\n",
    "metadata = {\n",
    "    \"model_version\": model_version\n",
    "}\n",
    "\n",
    "os.makedirs(\"/opt/airflow/out\", exist_ok=True)\n",
    "with open(\"/opt/airflow/out/notebook_output_metadata.json\", \"w\") as f:\n",
    "    json.dump(metadata, f)\n",
    "\n",
    "print(f\"Registered MLflow model version {model_version} written to metadata.\")"
   ]
  }
 ],
 "metadata": {
  "kernelspec": {
   "display_name": "Python 3 (ipykernel)",
   "language": "python",
   "name": "python3"
  },
  "language_info": {
   "codemirror_mode": {
    "name": "ipython",
    "version": 3
   },
   "file_extension": ".py",
   "mimetype": "text/x-python",
   "name": "python",
   "nbconvert_exporter": "python",
   "pygments_lexer": "ipython3",
   "version": "3.12.7"
  }
 },
 "nbformat": 4,
 "nbformat_minor": 5
}
