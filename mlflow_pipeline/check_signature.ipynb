import mlflow
mlflow.set_tracking_uri("http://localhost:5001")

model = mlflow.pyfunc.load_model("models:/HeartAttackRiskModel/Production")
sig = model.metadata.signature

print("Expected inputs:")
for col in sig.inputs:
    print(f" • {col.name} ({col.type})")
